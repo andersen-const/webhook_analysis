{
 "cells": [
  {
   "cell_type": "markdown",
   "metadata": {},
   "source": [
    "## Metrics for Procore Webhook delivery delays"
   ]
  },
  {
   "cell_type": "code",
   "execution_count": 9,
   "metadata": {
    "collapsed": true
   },
   "outputs": [],
   "source": [
    "import pandas as pd\n",
    "pd.options.mode.chained_assignment = None\n",
    "import matplotlib\n",
    "import numpy as np\n",
    "import matplotlib.pyplot as plt\n",
    "\n",
    "%matplotlib inline"
   ]
  },
  {
   "cell_type": "code",
   "execution_count": 10,
   "metadata": {
    "collapsed": true
   },
   "outputs": [],
   "source": [
    "data = pd.DataFrame.from_csv('./recent_hooks.csv', index_col=None)"
   ]
  },
  {
   "cell_type": "code",
   "execution_count": 11,
   "metadata": {
    "collapsed": true
   },
   "outputs": [],
   "source": [
    "data[\"procore_timestamp\"] = pd.to_datetime(data[\"procore_timestamp\"])\n",
    "data[\"recieved_timestamp\"] = pd.to_datetime(data[\"recieved_timestamp\"])"
   ]
  },
  {
   "cell_type": "code",
   "execution_count": 12,
   "metadata": {},
   "outputs": [],
   "source": [
    "recent = data.sort_values(by=\"recieved_timestamp\")"
   ]
  },
  {
   "cell_type": "code",
   "execution_count": 13,
   "metadata": {
    "collapsed": true
   },
   "outputs": [],
   "source": [
    "recent[\"time_delta_hours\"] = ((recent[\"recieved_timestamp\"] - recent[\"procore_timestamp\"]).dt.total_seconds() / 60) / 60"
   ]
  },
  {
   "cell_type": "markdown",
   "metadata": {},
   "source": [
    "### We have an 8 hour reporting obligation, how many events are delivered within an 8 hour window?"
   ]
  },
  {
   "cell_type": "code",
   "execution_count": 14,
   "metadata": {},
   "outputs": [
    {
     "name": "stdout",
     "output_type": "stream",
     "text": [
      "Time Period: 23 days\n",
      "Total hooks: 13966\n",
      "Hooks later than 8hr: 1129\n",
      "Percent of hooks delivered within 8hrs: 91.92%\n"
     ]
    }
   ],
   "source": [
    "num_late = recent[recent[\"time_delta_hours\"] > 8].shape[0]\n",
    "num_total = recent.shape[0]\n",
    "pct = (num_late / num_total) * 100\n",
    "\n",
    "print(\"Time Period: 23 days\")\n",
    "print(\"Total hooks: {0}\".format(num_total))\n",
    "print(\"Hooks later than 8hr: {0}\".format(num_late))\n",
    "print(\"Percent of hooks delivered within 8hrs: {0}%\".format(100 - round(pct,2)))"
   ]
  },
  {
   "cell_type": "markdown",
   "metadata": {},
   "source": [
    "### Histogram of delay for all delays greater than 1hr"
   ]
  },
  {
   "cell_type": "code",
   "execution_count": 7,
   "metadata": {},
   "outputs": [
    {
     "data": {
      "text/plain": [
       "array([[<matplotlib.axes._subplots.AxesSubplot object at 0x7f7c953bc780>]], dtype=object)"
      ]
     },
     "execution_count": 7,
     "metadata": {},
     "output_type": "execute_result"
    },
    {
     "data": {
      "image/png": "[encoded data removed]",
      "text/plain": [
       "<matplotlib.figure.Figure at 0x7f7c953bce10>"
      ]
     },
     "metadata": {},
     "output_type": "display_data"
    }
   ],
   "source": [
    "recent[recent[\"time_delta_hours\"] > 1].hist(column=\"time_delta_hours\")"
   ]
  },
  {
   "cell_type": "markdown",
   "metadata": {},
   "source": [
    "### Construction a table showing daily delay metrics"
   ]
  },
  {
   "cell_type": "code",
   "execution_count": 8,
   "metadata": {},
   "outputs": [
    {
     "name": "stderr",
     "output_type": "stream",
     "text": [
      "/home/ryan/anaconda3/lib/python3.6/site-packages/pandas/core/groupby.py:842: RuntimeWarning: Mean of empty slice\n",
      "  f = lambda x: func(x, *args, **kwargs)\n"
     ]
    },
    {
     "data": {
      "text/html": [
       "<div>\n",
       "<style>\n",
       "    .dataframe thead tr:only-child th {\n",
       "        text-align: right;\n",
       "    }\n",
       "\n",
       "    .dataframe thead th {\n",
       "        text-align: left;\n",
       "    }\n",
       "\n",
       "    .dataframe tbody tr th {\n",
       "        vertical-align: top;\n",
       "    }\n",
       "</style>\n",
       "<table border=\"1\" class=\"dataframe\">\n",
       "  <thead>\n",
       "    <tr style=\"text-align: right;\">\n",
       "      <th></th>\n",
       "      <th>Avg Delay(hrs)</th>\n",
       "      <th>Max Delay(hrs)</th>\n",
       "      <th>Num Delayed</th>\n",
       "      <th>Num Total</th>\n",
       "      <th>Pct Delayed</th>\n",
       "    </tr>\n",
       "    <tr>\n",
       "      <th>procore_timestamp</th>\n",
       "      <th></th>\n",
       "      <th></th>\n",
       "      <th></th>\n",
       "      <th></th>\n",
       "      <th></th>\n",
       "    </tr>\n",
       "  </thead>\n",
       "  <tbody>\n",
       "    <tr>\n",
       "      <th>2021-10-27</th>\n",
       "      <td>0.00</td>\n",
       "      <td>0.00</td>\n",
       "      <td>0</td>\n",
       "      <td>1103</td>\n",
       "      <td>0.0</td>\n",
       "    </tr>\n",
       "    <tr>\n",
       "      <th>2021-10-28</th>\n",
       "      <td>24.51</td>\n",
       "      <td>34.52</td>\n",
       "      <td>426</td>\n",
       "      <td>450</td>\n",
       "      <td>94.7</td>\n",
       "    </tr>\n",
       "    <tr>\n",
       "      <th>2021-10-29</th>\n",
       "      <td>14.01</td>\n",
       "      <td>30.49</td>\n",
       "      <td>435</td>\n",
       "      <td>435</td>\n",
       "      <td>100.0</td>\n",
       "    </tr>\n",
       "    <tr>\n",
       "      <th>2021-10-30</th>\n",
       "      <td>6.60</td>\n",
       "      <td>6.72</td>\n",
       "      <td>11</td>\n",
       "      <td>204</td>\n",
       "      <td>5.4</td>\n",
       "    </tr>\n",
       "    <tr>\n",
       "      <th>2021-10-31</th>\n",
       "      <td>0.00</td>\n",
       "      <td>0.00</td>\n",
       "      <td>0</td>\n",
       "      <td>74</td>\n",
       "      <td>0.0</td>\n",
       "    </tr>\n",
       "    <tr>\n",
       "      <th>2021-11-01</th>\n",
       "      <td>0.00</td>\n",
       "      <td>0.00</td>\n",
       "      <td>0</td>\n",
       "      <td>917</td>\n",
       "      <td>0.0</td>\n",
       "    </tr>\n",
       "    <tr>\n",
       "      <th>2021-11-02</th>\n",
       "      <td>0.00</td>\n",
       "      <td>0.00</td>\n",
       "      <td>0</td>\n",
       "      <td>684</td>\n",
       "      <td>0.0</td>\n",
       "    </tr>\n",
       "    <tr>\n",
       "      <th>2021-11-03</th>\n",
       "      <td>0.00</td>\n",
       "      <td>0.00</td>\n",
       "      <td>0</td>\n",
       "      <td>1137</td>\n",
       "      <td>0.0</td>\n",
       "    </tr>\n",
       "    <tr>\n",
       "      <th>2021-11-04</th>\n",
       "      <td>1.62</td>\n",
       "      <td>2.30</td>\n",
       "      <td>67</td>\n",
       "      <td>1598</td>\n",
       "      <td>4.2</td>\n",
       "    </tr>\n",
       "    <tr>\n",
       "      <th>2021-11-05</th>\n",
       "      <td>0.00</td>\n",
       "      <td>0.00</td>\n",
       "      <td>0</td>\n",
       "      <td>979</td>\n",
       "      <td>0.0</td>\n",
       "    </tr>\n",
       "    <tr>\n",
       "      <th>2021-11-06</th>\n",
       "      <td>0.00</td>\n",
       "      <td>0.00</td>\n",
       "      <td>0</td>\n",
       "      <td>115</td>\n",
       "      <td>0.0</td>\n",
       "    </tr>\n",
       "    <tr>\n",
       "      <th>2021-11-08</th>\n",
       "      <td>1.39</td>\n",
       "      <td>1.96</td>\n",
       "      <td>117</td>\n",
       "      <td>956</td>\n",
       "      <td>12.2</td>\n",
       "    </tr>\n",
       "    <tr>\n",
       "      <th>2021-11-09</th>\n",
       "      <td>6.92</td>\n",
       "      <td>9.25</td>\n",
       "      <td>266</td>\n",
       "      <td>1063</td>\n",
       "      <td>25.0</td>\n",
       "    </tr>\n",
       "    <tr>\n",
       "      <th>2021-11-10</th>\n",
       "      <td>8.76</td>\n",
       "      <td>11.12</td>\n",
       "      <td>163</td>\n",
       "      <td>520</td>\n",
       "      <td>31.3</td>\n",
       "    </tr>\n",
       "    <tr>\n",
       "      <th>2021-11-11</th>\n",
       "      <td>7.29</td>\n",
       "      <td>8.95</td>\n",
       "      <td>67</td>\n",
       "      <td>646</td>\n",
       "      <td>10.4</td>\n",
       "    </tr>\n",
       "    <tr>\n",
       "      <th>2021-11-12</th>\n",
       "      <td>0.00</td>\n",
       "      <td>0.00</td>\n",
       "      <td>0</td>\n",
       "      <td>637</td>\n",
       "      <td>0.0</td>\n",
       "    </tr>\n",
       "    <tr>\n",
       "      <th>2021-11-13</th>\n",
       "      <td>0.00</td>\n",
       "      <td>0.00</td>\n",
       "      <td>0</td>\n",
       "      <td>60</td>\n",
       "      <td>0.0</td>\n",
       "    </tr>\n",
       "    <tr>\n",
       "      <th>2021-11-14</th>\n",
       "      <td>0.00</td>\n",
       "      <td>0.00</td>\n",
       "      <td>0</td>\n",
       "      <td>2</td>\n",
       "      <td>0.0</td>\n",
       "    </tr>\n",
       "    <tr>\n",
       "      <th>2021-11-15</th>\n",
       "      <td>0.00</td>\n",
       "      <td>0.00</td>\n",
       "      <td>0</td>\n",
       "      <td>579</td>\n",
       "      <td>0.0</td>\n",
       "    </tr>\n",
       "    <tr>\n",
       "      <th>2021-11-16</th>\n",
       "      <td>0.00</td>\n",
       "      <td>0.00</td>\n",
       "      <td>0</td>\n",
       "      <td>646</td>\n",
       "      <td>0.0</td>\n",
       "    </tr>\n",
       "    <tr>\n",
       "      <th>2021-11-17</th>\n",
       "      <td>4.99</td>\n",
       "      <td>6.99</td>\n",
       "      <td>54</td>\n",
       "      <td>523</td>\n",
       "      <td>10.3</td>\n",
       "    </tr>\n",
       "    <tr>\n",
       "      <th>2021-11-18</th>\n",
       "      <td>2.77</td>\n",
       "      <td>3.23</td>\n",
       "      <td>2</td>\n",
       "      <td>638</td>\n",
       "      <td>0.3</td>\n",
       "    </tr>\n",
       "  </tbody>\n",
       "</table>\n",
       "</div>"
      ],
      "text/plain": [
       "                   Avg Delay(hrs)  Max Delay(hrs)  Num Delayed  Num Total  \\\n",
       "procore_timestamp                                                           \n",
       "2021-10-27                   0.00            0.00            0       1103   \n",
       "2021-10-28                  24.51           34.52          426        450   \n",
       "2021-10-29                  14.01           30.49          435        435   \n",
       "2021-10-30                   6.60            6.72           11        204   \n",
       "2021-10-31                   0.00            0.00            0         74   \n",
       "2021-11-01                   0.00            0.00            0        917   \n",
       "2021-11-02                   0.00            0.00            0        684   \n",
       "2021-11-03                   0.00            0.00            0       1137   \n",
       "2021-11-04                   1.62            2.30           67       1598   \n",
       "2021-11-05                   0.00            0.00            0        979   \n",
       "2021-11-06                   0.00            0.00            0        115   \n",
       "2021-11-08                   1.39            1.96          117        956   \n",
       "2021-11-09                   6.92            9.25          266       1063   \n",
       "2021-11-10                   8.76           11.12          163        520   \n",
       "2021-11-11                   7.29            8.95           67        646   \n",
       "2021-11-12                   0.00            0.00            0        637   \n",
       "2021-11-13                   0.00            0.00            0         60   \n",
       "2021-11-14                   0.00            0.00            0          2   \n",
       "2021-11-15                   0.00            0.00            0        579   \n",
       "2021-11-16                   0.00            0.00            0        646   \n",
       "2021-11-17                   4.99            6.99           54        523   \n",
       "2021-11-18                   2.77            3.23            2        638   \n",
       "\n",
       "                   Pct Delayed  \n",
       "procore_timestamp               \n",
       "2021-10-27                 0.0  \n",
       "2021-10-28                94.7  \n",
       "2021-10-29               100.0  \n",
       "2021-10-30                 5.4  \n",
       "2021-10-31                 0.0  \n",
       "2021-11-01                 0.0  \n",
       "2021-11-02                 0.0  \n",
       "2021-11-03                 0.0  \n",
       "2021-11-04                 4.2  \n",
       "2021-11-05                 0.0  \n",
       "2021-11-06                 0.0  \n",
       "2021-11-08                12.2  \n",
       "2021-11-09                25.0  \n",
       "2021-11-10                31.3  \n",
       "2021-11-11                10.4  \n",
       "2021-11-12                 0.0  \n",
       "2021-11-13                 0.0  \n",
       "2021-11-14                 0.0  \n",
       "2021-11-15                 0.0  \n",
       "2021-11-16                 0.0  \n",
       "2021-11-17                10.3  \n",
       "2021-11-18                 0.3  "
      ]
     },
     "execution_count": 8,
     "metadata": {},
     "output_type": "execute_result"
    }
   ],
   "source": [
    "times_only = recent[['procore_timestamp','time_delta_hours']]\n",
    "times_only[\"is_delayed\"] = times_only[\"time_delta_hours\"] >= 1\n",
    "times_only[\"is_hook\"] = 1\n",
    "times_only[\"delayed_delta_mean\"] = times_only[times_only[\"is_delayed\"] == True][\"time_delta_hours\"]\n",
    "times_only[\"delayed_delta_max\"] = times_only[\"delayed_delta_mean\"]\n",
    "\n",
    "times_only = times_only.groupby(by=times_only['procore_timestamp'].dt.date).agg({\n",
    "    \"delayed_delta_mean\": np.nanmean,\n",
    "    \"delayed_delta_max\": np.max,\n",
    "    \"is_delayed\": np.sum,\n",
    "    \"is_hook\": np.sum\n",
    "})\n",
    "\n",
    "times_only[\"delayed_delta_mean\"] = round(times_only[\"delayed_delta_mean\"].fillna(0),2)\n",
    "times_only[\"delayed_delta_max\"] = round(times_only[\"delayed_delta_max\"].fillna(0),2)\n",
    "times_only[\"is_delayed\"] = times_only[\"is_delayed\"].astype(np.int64)\n",
    "times_only[\"percent_delayed\"] = round((times_only[\"is_delayed\"] / times_only[\"is_hook\"]) * 100, 1)\n",
    "times_only = times_only.rename(columns={\n",
    "    \"delayed_delta_mean\": \"Avg Delay(hrs)\", \n",
    "    \"delayed_delta_max\": \"Max Delay(hrs)\",\n",
    "    \"is_delayed\": \"Num Delayed\",\n",
    "    \"is_hook\": \"Num Total\",\n",
    "    \"percent_delayed\": \"Pct Delayed\"\n",
    "})\n",
    "\n",
    "times_only"
   ]
  },
  {
   "cell_type": "code",
   "execution_count": null,
   "metadata": {
    "collapsed": true
   },
   "outputs": [],
   "source": []
  }
 ],
 "metadata": {
  "kernelspec": {
   "display_name": "Python [default]",
   "language": "python",
   "name": "python3"
  },
  "language_info": {
   "codemirror_mode": {
    "name": "ipython",
    "version": 3
   },
   "file_extension": ".py",
   "mimetype": "text/x-python",
   "name": "python",
   "nbconvert_exporter": "python",
   "pygments_lexer": "ipython3",
   "version": "3.6.3"
  }
 },
 "nbformat": 4,
 "nbformat_minor": 2
}
